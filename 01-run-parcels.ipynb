{
 "cells": [
  {
   "cell_type": "code",
   "execution_count": null,
   "id": "44081a80",
   "metadata": {},
   "outputs": [],
   "source": [
    "from parcels import FieldSet\n",
    "\n",
    "\n",
    "filenames = {\n",
    "    \"U\": \"spring.nc\",\n",
    "    \"V\": \"spring.nc\",\n",
    "}\n",
    "\n",
    "variables = {\n",
    "    \"U\": \"water_u\",\n",
    "    \"V\": \"water_v\",\n",
    "}\n",
    "\n",
    "dimensions = {\n",
    "    \"lat\": \"lat\",\n",
    "    \"lon\": \"lon\",\n",
    "#     \"time\": \"time\",\n",
    "}\n",
    "\n",
    "fieldset = FieldSet.from_netcdf(filenames, variables, dimensions)"
   ]
  },
  {
   "cell_type": "code",
   "execution_count": null,
   "id": "ed443cac",
   "metadata": {
    "scrolled": false
   },
   "outputs": [],
   "source": [
    "import cartopy.crs as ccrs\n",
    "from datetime import timedelta\n",
    "from parcels import ParticleSet, JITParticle\n",
    "\n",
    "npart = 1000 # nº de particulas liberadas\n",
    "lon = [-46] * npart # lon de liberacao das particulas\n",
    "lat = [-26.83] * npart # lat da liberacao das particulas\n",
    "repeatdt = timedelta(hours=24)\n",
    "\n",
    "pset = ParticleSet(\n",
    "    fieldset=fieldset,\n",
    "    pclass=JITParticle,\n",
    "    lon=lon,\n",
    "    lat=lat,\n",
    "    repeatdt=repeatdt,\n",
    ")\n",
    "\n",
    "domain = {\"N\": -32.8, \"S\": -24, \"E\": -44, \"W\": -52.8}\n",
    "kw = {\"projection\": ccrs.PlateCarree()}\n",
    "pset.show(domain=None, **kw)"
   ]
  },
  {
   "cell_type": "code",
   "execution_count": null,
   "id": "84348239",
   "metadata": {
    "scrolled": false
   },
   "outputs": [],
   "source": [
    "from parcels import AdvectionRK4\n",
    "from parcels.tools.statuscodes import ErrorCode\n",
    "\n",
    "\n",
    "def DeleteParticle(particle, fieldset, time):\n",
    "    particle.delete()\n",
    "\n",
    "    \n",
    "output_file = pset.ParticleFile(\n",
    "    name=\"results.nc\",\n",
    "    outputdt=timedelta(hours=24)\n",
    ")\n",
    "\n",
    "kernels = pset.Kernel(AdvectionRK4)\n",
    "pset.execute(\n",
    "    kernels,\n",
    "    runtime=timedelta(days=30),\n",
    "    dt=timedelta(hours=5),\n",
    "    output_file=output_file,\n",
    "    recovery={ErrorCode.ErrorOutOfBounds: DeleteParticle},\n",
    ")\n",
    "\n",
    "pset.show(domain=domain, **kw)"
   ]
  }
 ],
 "metadata": {
  "kernelspec": {
   "display_name": "Python 3 (ipykernel)",
   "language": "python",
   "name": "python3"
  },
  "language_info": {
   "codemirror_mode": {
    "name": "ipython",
    "version": 3
   },
   "file_extension": ".py",
   "mimetype": "text/x-python",
   "name": "python",
   "nbconvert_exporter": "python",
   "pygments_lexer": "ipython3",
   "version": "3.10.5"
  }
 },
 "nbformat": 4,
 "nbformat_minor": 5
}
