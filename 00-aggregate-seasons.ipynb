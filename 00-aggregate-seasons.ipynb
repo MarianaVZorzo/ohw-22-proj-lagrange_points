{
 "cells": [
  {
   "cell_type": "code",
   "execution_count": null,
   "id": "48df8a44",
   "metadata": {},
   "outputs": [],
   "source": [
    "import pooch\n",
    "\n",
    "url = f\"https://github.com/LaPoGeoMar/Proj_Modelagem_Oleo/releases/download\"\n",
    "version = \"v0.0.1.dev\"\n",
    "\n",
    "fname = pooch.retrieve(\n",
    "    url=f\"{url}/{version}/hycom-oil.nc\",\n",
    "    known_hash=\"sha256:dfc6f66055f19d43b189f6f4b4bec3397fb7536d61937d978004bc97f7860d99\",\n",
    ")"
   ]
  },
  {
   "cell_type": "code",
   "execution_count": null,
   "id": "127fc5b9",
   "metadata": {},
   "outputs": [],
   "source": [
    "import cf_xarray\n",
    "import xarray as xr\n",
    "\n",
    "ds = xr.open_dataset(fname)\n",
    "ds"
   ]
  },
  {
   "cell_type": "code",
   "execution_count": null,
   "id": "d8816c4e",
   "metadata": {},
   "outputs": [],
   "source": [
    "ds.cf"
   ]
  },
  {
   "cell_type": "code",
   "execution_count": null,
   "id": "588fc878",
   "metadata": {},
   "outputs": [],
   "source": [
    "print(f\"start: {ds['time'][0].to_numpy()}\\nfinish: {ds['time'][-1].to_numpy()}\")"
   ]
  },
  {
   "cell_type": "code",
   "execution_count": null,
   "id": "b2311937",
   "metadata": {
    "scrolled": false
   },
   "outputs": [],
   "source": [
    "import cartopy.crs as ccrs\n",
    "import matplotlib.pyplot as plt\n",
    "import numpy as np\n",
    "\n",
    "subset = ds.sel({\"time\": \"2017-12-31\", \"depth\": 0})\n",
    "\n",
    "u = subset[\"water_u\"]\n",
    "v = subset[\"water_v\"]\n",
    "\n",
    "u_norm = u / np.sqrt(u**2.0 + v**2.0)\n",
    "v_norm = v / np.sqrt(u**2.0 + v**2.0)\n",
    "\n",
    "speed = (u**2 + v**2) ** 0.5\n",
    "\n",
    "fig, ax = plt.subplots(figsize=(12, 12), subplot_kw={\"projection\": ccrs.PlateCarree()})\n",
    "\n",
    "\n",
    "ax.contourf(subset[\"lon\"], subset[\"lat\"], speed)\n",
    "ax.quiver(subset[\"lon\"], subset[\"lat\"], u_norm, v_norm, color=\"white\", scale=50)\n",
    "\n",
    "ax.coastlines(resolution=\"10m\")"
   ]
  },
  {
   "cell_type": "markdown",
   "id": "3317b80d",
   "metadata": {},
   "source": [
    "## Save a coast mask for later b/c we loose it when doing the averages below."
   ]
  },
  {
   "cell_type": "code",
   "execution_count": null,
   "id": "11a64fe1",
   "metadata": {},
   "outputs": [],
   "source": [
    "coast_mask = np.ma.masked_invalid(u.to_numpy()).mask"
   ]
  },
  {
   "cell_type": "markdown",
   "id": "3084efed",
   "metadata": {},
   "source": [
    "## Season averages"
   ]
  },
  {
   "cell_type": "code",
   "execution_count": null,
   "id": "18ef8edd",
   "metadata": {},
   "outputs": [],
   "source": [
    "month_length = ds.time.dt.days_in_month\n",
    "\n",
    "weights = (\n",
    "    month_length.groupby(\"time.season\") / month_length.groupby(\"time.season\").sum()\n",
    ")\n",
    "\n",
    "# Test that the sum of the weights for each season is 1.0\n",
    "np.testing.assert_allclose(weights.groupby(\"time.season\").sum().values, np.ones(4))\n",
    "\n",
    "# Calculate the weighted average\n",
    "ds_weighted = (ds * weights).groupby(\"time.season\").sum(dim=\"time\")\n",
    "ds_weighted"
   ]
  },
  {
   "cell_type": "markdown",
   "id": "85d095e8",
   "metadata": {},
   "source": [
    "### Plot the season averages"
   ]
  },
  {
   "cell_type": "code",
   "execution_count": null,
   "id": "7b334a0d",
   "metadata": {},
   "outputs": [],
   "source": [
    "def plot_currents(ax, ds_weighted, season=\"DJF\"):\n",
    "\n",
    "    subset = ds_weighted.sel({\"season\": season, \"depth\": 0})\n",
    "\n",
    "    u = subset[\"water_u\"]\n",
    "    v = subset[\"water_v\"]\n",
    "\n",
    "    u_norm = u / np.sqrt(u**2.0 + v**2.0)\n",
    "    v_norm = v / np.sqrt(u**2.0 + v**2.0)\n",
    "\n",
    "    speed = (u**2 + v**2) ** 0.5\n",
    "    speed = np.ma.masked_array(speed, coast_mask)\n",
    "\n",
    "    ax.contourf(subset[\"lon\"], subset[\"lat\"], speed)\n",
    "    ax.quiver(subset[\"lon\"], subset[\"lat\"], u_norm, v_norm, color=\"white\", scale=50)\n",
    "\n",
    "    ax.coastlines(resolution=\"10m\")"
   ]
  },
  {
   "cell_type": "code",
   "execution_count": null,
   "id": "ec37fa5d",
   "metadata": {},
   "outputs": [],
   "source": [
    "fig, ((ax0, ax1), (ax2, ax3)) = plt.subplots(\n",
    "    nrows=2, ncols=2, figsize=(25, 25), subplot_kw={\"projection\": ccrs.PlateCarree()}\n",
    ")\n",
    "\n",
    "ax0.set_title(\"Austral summer\")\n",
    "plot_currents(ax0, ds_weighted, season=\"DJF\")\n",
    "\n",
    "ax1.set_title(\"Austral fall\")\n",
    "plot_currents(ax1, ds_weighted, season=\"MAM\")\n",
    "\n",
    "ax2.set_title(\"Austral winter\")\n",
    "plot_currents(ax2, ds_weighted, season=\"JJA\")\n",
    "\n",
    "ax3.set_title(\"Austral spring\")\n",
    "plot_currents(ax3, ds_weighted, season=\"SON\")"
   ]
  }
 ],
 "metadata": {
  "kernelspec": {
   "display_name": "Python 3 (ipykernel)",
   "language": "python",
   "name": "python3"
  },
  "language_info": {
   "codemirror_mode": {
    "name": "ipython",
    "version": 3
   },
   "file_extension": ".py",
   "mimetype": "text/x-python",
   "name": "python",
   "nbconvert_exporter": "python",
   "pygments_lexer": "ipython3",
   "version": "3.10.5"
  }
 },
 "nbformat": 4,
 "nbformat_minor": 5
}
